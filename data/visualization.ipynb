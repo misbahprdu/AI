{
 "cells": [
  {
   "cell_type": "markdown",
   "metadata": {},
   "source": [
    "import library"
   ]
  },
  {
   "cell_type": "code",
   "execution_count": 4,
   "metadata": {},
   "outputs": [],
   "source": [
    "import pandas as pd\n",
    "import numpy as np\n",
    "import matplotlib.pylab as plt \n",
    "%matplotlib inline"
   ]
  },
  {
   "cell_type": "markdown",
   "metadata": {},
   "source": [
    "read data"
   ]
  },
  {
   "cell_type": "code",
   "execution_count": 5,
   "metadata": {},
   "outputs": [
    {
     "name": "stdout",
     "output_type": "stream",
     "text": [
      "          DEAD_YEAR(Budha)  DEAD_YEAR   Age  Sex BirthYear  NationalityId  \\\n",
      "id                                                                          \n",
      "8722010               2559       2016  47.0  1.0       NaN            NaN   \n",
      "8722006               2559       2016  48.0  1.0       NaN            NaN   \n",
      "8722013               2559       2016  48.0  1.0       NaN            NaN   \n",
      "8722017               2559       2016  48.0  1.0       NaN            NaN   \n",
      "8721975               2559       2016  49.0  1.0       NaN            NaN   \n",
      "...                    ...        ...   ...  ...       ...            ...   \n",
      "10111398              2562       2019  33.0  NaN       NaN            NaN   \n",
      "10112013              2562       2019  39.0  NaN       NaN            NaN   \n",
      "10111873              2562       2019  77.0  NaN       NaN            NaN   \n",
      "10111779              2562       2019   NaN  NaN       NaN            NaN   \n",
      "10111864              2562       2019  15.0  NaN       NaN            NaN   \n",
      "\n",
      "         Tumbol           District       Province  RiskHelmet  ...   DeadDate  \\\n",
      "id                                                             ...              \n",
      "8722010     NaN                NaN            NaN         NaN  ... 2016-02-07   \n",
      "8722006     NaN                NaN            NaN         NaN  ... 2016-06-22   \n",
      "8722013     NaN                NaN            NaN         NaN  ... 2016-04-27   \n",
      "8722017     NaN                NaN            NaN         NaN  ... 2016-05-18   \n",
      "8721975     NaN                NaN            NaN         NaN  ... 2016-10-18   \n",
      "...         ...                ...            ...         ...  ...        ...   \n",
      "10111398    NaN        เมืองภูเก็ต         ภูเก็ต         NaN  ... 2019-06-29   \n",
      "10112013    NaN               สิชล  นครศรีธรรมราช         NaN  ... 2019-09-23   \n",
      "10111873    NaN  เมืองสุราษฎร์ธานี   สุราษฎร์ธานี         NaN  ... 2019-10-06   \n",
      "10111779    NaN         เมืองระนอง          ระนอง         NaN  ... 2019-12-31   \n",
      "10111864    NaN         เมืองระนอง          ระนอง         NaN  ... 2019-12-31   \n",
      "\n",
      "            DateRec   TimeRec  AccSubDist      AccDist       AccProv  \\\n",
      "id                                                                     \n",
      "8722010         NaT       NaN         NaN          NaN      พิษณุโลก   \n",
      "8722006         NaT       NaN         NaN          NaN      พิษณุโลก   \n",
      "8722013         NaT       NaN         NaN          NaN      พิษณุโลก   \n",
      "8722017         NaT       NaN         NaN          NaN      พิษณุโลก   \n",
      "8721975         NaT       NaN         NaN          NaN      พิษณุโลก   \n",
      "...             ...       ...         ...          ...           ...   \n",
      "10111398 2019-06-29  20:30:00        ฉลอง  เมืองภูเก็ต        ภูเก็ต   \n",
      "10112013 2019-09-23  14:20:00        ฉลอง         สิชล  สุราษฎร์ธานี   \n",
      "10111873 2019-10-06  17:25:00  ท่าทองใหม่   กาญจนดิษฐ์  สุราษฎร์ธานี   \n",
      "10111779 2019-12-31  23:40:00     บางริ้น   เมืองระนอง         ระนอง   \n",
      "10111864 2019-12-31  23:40:00     บางริ้น   เมืองระนอง         ระนอง   \n",
      "\n",
      "            AccLat    AccLong  ICD-10        Vehicle  \n",
      "id                                                    \n",
      "8722010        NaN        NaN    V892   ไม่ระบุพาหนะ  \n",
      "8722006        NaN        NaN    V892   ไม่ระบุพาหนะ  \n",
      "8722013        NaN        NaN    V892   ไม่ระบุพาหนะ  \n",
      "8722017        NaN        NaN    V892   ไม่ระบุพาหนะ  \n",
      "8721975        NaN        NaN    V892   ไม่ระบุพาหนะ  \n",
      "...            ...        ...     ...            ...  \n",
      "10111398  7.846704  98.336526     NaN  รถจักรยานยนต์  \n",
      "10112013  8.899548  99.795811     NaN  รถจักรยานยนต์  \n",
      "10111873  9.174437  99.397227     NaN  รถจักรยานยนต์  \n",
      "10111779  9.935354  98.633255     NaN  รถจักรยานยนต์  \n",
      "10111864  9.935354  98.633255     NaN  รถจักรยานยนต์  \n",
      "\n",
      "[223545 rows x 21 columns]\n"
     ]
    }
   ],
   "source": [
    "data = pd.read_excel('data.xlsx',index_col=0)\n",
    "print(data)"
   ]
  },
  {
   "cell_type": "code",
   "execution_count": null,
   "metadata": {},
   "outputs": [],
   "source": [
    "data.info"
   ]
  },
  {
   "cell_type": "code",
   "execution_count": 7,
   "metadata": {},
   "outputs": [
    {
     "data": {
      "text/plain": [
       "DEAD_YEAR(Budha)             int64\n",
       "DEAD_YEAR                    int64\n",
       "Age                        float64\n",
       "Sex                        float64\n",
       "BirthYear                   object\n",
       "NationalityId              float64\n",
       "Tumbol                      object\n",
       "District                    object\n",
       "Province                    object\n",
       "RiskHelmet                 float64\n",
       "RiskSafetyBelt             float64\n",
       "DeadDate            datetime64[ns]\n",
       "DateRec             datetime64[ns]\n",
       "TimeRec                     object\n",
       "AccSubDist                  object\n",
       "AccDist                     object\n",
       "AccProv                     object\n",
       "AccLat                     float64\n",
       "AccLong                    float64\n",
       "ICD-10                      object\n",
       "Vehicle                     object\n",
       "dtype: object"
      ]
     },
     "execution_count": 7,
     "metadata": {},
     "output_type": "execute_result"
    }
   ],
   "source": [
    "data.dtypes"
   ]
  },
  {
   "cell_type": "code",
   "execution_count": 8,
   "metadata": {},
   "outputs": [
    {
     "data": {
      "text/plain": [
       "DEAD_YEAR(Budha)         0\n",
       "DEAD_YEAR                0\n",
       "Age                  29665\n",
       "Sex                   5474\n",
       "BirthYear           207302\n",
       "NationalityId        97258\n",
       "Tumbol              189287\n",
       "District            144990\n",
       "Province            144835\n",
       "RiskHelmet          219155\n",
       "RiskSafetyBelt      221479\n",
       "DeadDate                 0\n",
       "DateRec             116595\n",
       "TimeRec             116595\n",
       "AccSubDist          118528\n",
       "AccDist             118065\n",
       "AccProv                  5\n",
       "AccLat              120509\n",
       "AccLong             120510\n",
       "ICD-10               52250\n",
       "Vehicle                  0\n",
       "dtype: int64"
      ]
     },
     "execution_count": 8,
     "metadata": {},
     "output_type": "execute_result"
    }
   ],
   "source": [
    "data.isnull().sum()"
   ]
  },
  {
   "cell_type": "markdown",
   "metadata": {},
   "source": [
    "clean data\n"
   ]
  }
 ],
 "metadata": {
  "interpreter": {
   "hash": "b3ba2566441a7c06988d0923437866b63cedc61552a5af99d1f4fb67d367b25f"
  },
  "kernelspec": {
   "display_name": "Python 3.8.5",
   "language": "python",
   "name": "python3"
  },
  "language_info": {
   "codemirror_mode": {
    "name": "ipython",
    "version": 3
   },
   "file_extension": ".py",
   "mimetype": "text/x-python",
   "name": "python",
   "nbconvert_exporter": "python",
   "pygments_lexer": "ipython3",
   "version": "3.8.5"
  },
  "orig_nbformat": 4
 },
 "nbformat": 4,
 "nbformat_minor": 2
}
